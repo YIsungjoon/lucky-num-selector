{
 "cells": [
  {
   "cell_type": "code",
   "execution_count": 5,
   "metadata": {},
   "outputs": [],
   "source": [
    "import pandas as pd\n",
    "import numpy as np\n",
    "import random"
   ]
  },
  {
   "cell_type": "code",
   "execution_count": 6,
   "metadata": {},
   "outputs": [],
   "source": [
    "num_list = [i for i in range(1,46)]"
   ]
  },
  {
   "cell_type": "code",
   "execution_count": 7,
   "metadata": {},
   "outputs": [
    {
     "data": {
      "text/plain": [
       "4"
      ]
     },
     "execution_count": 7,
     "metadata": {},
     "output_type": "execute_result"
    }
   ],
   "source": [
    "random.randint(1,46)"
   ]
  },
  {
   "cell_type": "code",
   "execution_count": 19,
   "metadata": {},
   "outputs": [
    {
     "name": "stdout",
     "output_type": "stream",
     "text": [
      "[39, 40, 41, 42, 43, 44, 35]\n"
     ]
    }
   ],
   "source": [
    "num_list = [i for i in range(1,46)]\n",
    "selected_lucky_num = []\n",
    "\n",
    "num_1 = random.choice(num_list)\n",
    "selected_lucky_num.append(num_list.pop(num_1))\n",
    "num_2 = random.choice(num_list)\n",
    "selected_lucky_num.append(num_list.pop(num_1))\n",
    "num_3 = random.choice(num_list)\n",
    "selected_lucky_num.append(num_list.pop(num_1))\n",
    "num_4 = random.choice(num_list)\n",
    "selected_lucky_num.append(num_list.pop(num_1))\n",
    "num_5 = random.choice(num_list)\n",
    "selected_lucky_num.append(num_list.pop(num_1))\n",
    "num_6 = random.choice(num_list)\n",
    "selected_lucky_num.append(num_list.pop(num_1))\n",
    "num_7 = random.choice(num_list)\n",
    "selected_lucky_num.append(num_list.pop(num_7))\n",
    "\n",
    "print(selected_lucky_num)"
   ]
  },
  {
   "cell_type": "code",
   "execution_count": 17,
   "metadata": {},
   "outputs": [
    {
     "name": "stdout",
     "output_type": "stream",
     "text": [
      "shuffle ok\n",
      "select num ok\n",
      "append ok\n",
      "shuffle ok\n",
      "select num ok\n",
      "append ok\n",
      "shuffle ok\n",
      "select num ok\n",
      "append ok\n",
      "shuffle ok\n",
      "select num ok\n",
      "append ok\n",
      "shuffle ok\n",
      "select num ok\n",
      "append ok\n",
      "shuffle ok\n",
      "select num ok\n",
      "append ok\n",
      "shuffle ok\n",
      "select num ok\n",
      "append ok\n",
      "[33, 26, 17, 45, 11, 27, 15]\n"
     ]
    }
   ],
   "source": [
    "num_list = [i for i in range(1,46)]\n",
    "selected_lucky_num = []\n",
    "\n",
    "for i in range(7):\n",
    "    random.shuffle(num_list)\n",
    "    print(\"shuffle ok\")\n",
    "    selected_num = random.choice(num_list)\n",
    "    print(\"select num ok\")\n",
    "    selected_lucky_num.append(num_list.pop(selected_num))\n",
    "    print(\"append ok\")\n",
    "\n",
    "\n",
    "print(selected_lucky_num)"
   ]
  },
  {
   "cell_type": "code",
   "execution_count": 15,
   "metadata": {},
   "outputs": [
    {
     "data": {
      "text/plain": [
       "[6,\n",
       " 44,\n",
       " 22,\n",
       " 23,\n",
       " 13,\n",
       " 40,\n",
       " 33,\n",
       " 18,\n",
       " 16,\n",
       " 8,\n",
       " 11,\n",
       " 5,\n",
       " 32,\n",
       " 21,\n",
       " 1,\n",
       " 26,\n",
       " 20,\n",
       " 30,\n",
       " 29,\n",
       " 2,\n",
       " 4,\n",
       " 15,\n",
       " 34,\n",
       " 43,\n",
       " 35,\n",
       " 36,\n",
       " 39,\n",
       " 42,\n",
       " 28,\n",
       " 31,\n",
       " 38,\n",
       " 10,\n",
       " 19,\n",
       " 41,\n",
       " 25,\n",
       " 7,\n",
       " 37,\n",
       " 17,\n",
       " 24,\n",
       " 27,\n",
       " 14,\n",
       " 45,\n",
       " 9,\n",
       " 12,\n",
       " 3]"
      ]
     },
     "execution_count": 15,
     "metadata": {},
     "output_type": "execute_result"
    }
   ],
   "source": [
    "num_list = [i for i in range(1,46)]\n",
    "random.shuffle(num_list)\n",
    "num_list"
   ]
  },
  {
   "cell_type": "code",
   "execution_count": 196,
   "metadata": {},
   "outputs": [
    {
     "data": {
      "text/plain": [
       "[1, 29, 5, 43, 41, 15, 35]"
      ]
     },
     "execution_count": 196,
     "metadata": {},
     "output_type": "execute_result"
    }
   ],
   "source": [
    "num_list = [1,2,3,4,5,6,7,8,9,10,\n",
    "            11,12,13,14,15,16,17,18,19,20,\n",
    "            21,22,23,24,25,26,27,28,29,30,\n",
    "            31,32,33,34,35,36,37,38,39,40,\n",
    "            41,42,43,44,45]\n",
    "\n",
    "\n",
    "selected_lucky_num = []\n",
    "random.shuffle(num_list)\n",
    "for _ in range(7):\n",
    "    selected_num = random.choice(num_list)\n",
    "    num_idx = num_list.index(selected_num)\n",
    "    selected_lucky_num.append(num_list.pop(num_idx))\n",
    "    \n",
    "\n",
    "selected_lucky_num"
   ]
  },
  {
   "cell_type": "code",
   "execution_count": null,
   "metadata": {},
   "outputs": [],
   "source": []
  }
 ],
 "metadata": {
  "kernelspec": {
   "display_name": "Python 3",
   "language": "python",
   "name": "python3"
  },
  "language_info": {
   "codemirror_mode": {
    "name": "ipython",
    "version": 3
   },
   "file_extension": ".py",
   "mimetype": "text/x-python",
   "name": "python",
   "nbconvert_exporter": "python",
   "pygments_lexer": "ipython3",
   "version": "3.11.5"
  },
  "orig_nbformat": 4
 },
 "nbformat": 4,
 "nbformat_minor": 2
}
