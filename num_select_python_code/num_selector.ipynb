{
 "cells": [
  {
   "cell_type": "code",
   "execution_count": 5,
   "metadata": {},
   "outputs": [],
   "source": [
    "import pandas as pd\n",
    "import numpy as np\n",
    "import random"
   ]
  },
  {
   "cell_type": "code",
   "execution_count": 4,
   "metadata": {},
   "outputs": [],
   "source": [
    "num_list = [i for i in range(1,46)]"
   ]
  },
  {
   "cell_type": "code",
   "execution_count": 12,
   "metadata": {},
   "outputs": [
    {
     "data": {
      "text/plain": [
       "23"
      ]
     },
     "execution_count": 12,
     "metadata": {},
     "output_type": "execute_result"
    }
   ],
   "source": [
    "random.randint(1,46)"
   ]
  },
  {
   "cell_type": "code",
   "execution_count": 14,
   "metadata": {},
   "outputs": [
    {
     "name": "stdout",
     "output_type": "stream",
     "text": [
      "[23, 24, 25, 26, 27, 28, 2]\n"
     ]
    }
   ],
   "source": [
    "selected_lucky_num = []\n",
    "\n",
    "num_1 = random.choice(num_list)\n",
    "selected_lucky_num.append(num_list.pop(num_1))\n",
    "num_2 = random.choice(num_list)\n",
    "selected_lucky_num.append(num_list.pop(num_1))\n",
    "num_3 = random.choice(num_list)\n",
    "selected_lucky_num.append(num_list.pop(num_1))\n",
    "num_4 = random.choice(num_list)\n",
    "selected_lucky_num.append(num_list.pop(num_1))\n",
    "num_5 = random.choice(num_list)\n",
    "selected_lucky_num.append(num_list.pop(num_1))\n",
    "num_6 = random.choice(num_list)\n",
    "selected_lucky_num.append(num_list.pop(num_1))\n",
    "num_7 = random.choice(num_list)\n",
    "selected_lucky_num.append(num_list.pop(num_7))\n",
    "\n",
    "print(selected_lucky_num)"
   ]
  },
  {
   "cell_type": "code",
   "execution_count": null,
   "metadata": {},
   "outputs": [],
   "source": []
  }
 ],
 "metadata": {
  "kernelspec": {
   "display_name": "Python 3",
   "language": "python",
   "name": "python3"
  },
  "language_info": {
   "codemirror_mode": {
    "name": "ipython",
    "version": 3
   },
   "file_extension": ".py",
   "mimetype": "text/x-python",
   "name": "python",
   "nbconvert_exporter": "python",
   "pygments_lexer": "ipython3",
   "version": "3.11.5"
  },
  "orig_nbformat": 4
 },
 "nbformat": 4,
 "nbformat_minor": 2
}
