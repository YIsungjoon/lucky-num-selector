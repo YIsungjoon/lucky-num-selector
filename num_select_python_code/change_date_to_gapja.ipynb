{
 "cells": [
  {
   "cell_type": "code",
   "execution_count": 4,
   "metadata": {},
   "outputs": [],
   "source": [
    "import numpy as np\n",
    "import pandas as pd"
   ]
  },
  {
   "cell_type": "code",
   "execution_count": 25,
   "metadata": {},
   "outputs": [],
   "source": [
    "import datetime\n",
    "\n",
    "# 현재 날짜와 시간을 가져옵니다\n",
    "current_datetime = datetime.datetime.now()\n",
    "\n",
    "# 현재 년도를 가져옵니다\n",
    "current_year = current_datetime.year\n",
    "\n",
    "current_year = 1592\n",
    "\n",
    "sky_word_num = current_year%10\n",
    "\n",
    "earth_word_num = current_year%12"
   ]
  },
  {
   "cell_type": "code",
   "execution_count": null,
   "metadata": {},
   "outputs": [],
   "source": []
  },
  {
   "cell_type": "code",
   "execution_count": 6,
   "metadata": {},
   "outputs": [],
   "source": [
    "# https://namu.wiki/w/%EC%9C%A1%EC%8B%AD%EA%B0%91%EC%9E%90\n",
    "# 다시 만들기"
   ]
  },
  {
   "cell_type": "code",
   "execution_count": null,
   "metadata": {},
   "outputs": [],
   "source": [
    "# 기원후 만 적용함"
   ]
  },
  {
   "cell_type": "code",
   "execution_count": 10,
   "metadata": {},
   "outputs": [],
   "source": [
    "pre_dict = {0:\"경\", 1:\"신\", 2:\"임\", 3:\"계\", 4:\"갑\", 5:\"을\", 6:\"병\", 7:\"정\", 8:\"무\", 9:\"기\"}\n",
    "\n",
    "post_dict = {0:\"신\",1:\"유\",2:\"술\", 3:\"해\",4:\"자\",5:\"축\", 6:\"인\",7:\"묘\",8:\"진\", 9:\"사\",10:\"오\",11:\"미\"}"
   ]
  },
  {
   "cell_type": "code",
   "execution_count": 11,
   "metadata": {},
   "outputs": [],
   "source": [
    "# 병인년(丙寅年)은 간지의 3번째 해이다. '병'은 적이므로 '빨간 호랑이의 해'이다. 서력 연도를 60으로 나눠 나머지가 6인 해가 해당된다.\n",
    "\n",
    "#  갑을병정무기경심임계 갑=4\n",
    "\n",
    "# 2022년 임인년(壬寅年)\n",
    "# 2023년 계묘년 (癸卯年)"
   ]
  },
  {
   "cell_type": "code",
   "execution_count": 12,
   "metadata": {},
   "outputs": [
    {
     "data": {
      "text/plain": [
       "'임진'"
      ]
     },
     "execution_count": 12,
     "metadata": {},
     "output_type": "execute_result"
    }
   ],
   "source": [
    "pre_dict[sky_word_num]+post_dict[earth_word_num]"
   ]
  },
  {
   "cell_type": "code",
   "execution_count": 22,
   "metadata": {},
   "outputs": [
    {
     "data": {
      "text/plain": [
       "datetime.datetime(2023, 10, 26, 16, 20, 14, 477686)"
      ]
     },
     "execution_count": 22,
     "metadata": {},
     "output_type": "execute_result"
    }
   ],
   "source": [
    "datetime.datetime.now()"
   ]
  },
  {
   "cell_type": "code",
   "execution_count": null,
   "metadata": {},
   "outputs": [],
   "source": [
    "# https://m.blog.naver.com/trapezen/40188219284\n",
    "#시간을 60갑자로 변환하는 참고사이트"
   ]
  },
  {
   "cell_type": "code",
   "execution_count": 26,
   "metadata": {},
   "outputs": [
    {
     "data": {
      "text/plain": [
       "23"
      ]
     },
     "execution_count": 26,
     "metadata": {},
     "output_type": "execute_result"
    }
   ],
   "source": [
    "current_datetime.month\n",
    "current_datetime.day\n",
    "current_datetime.hour\n",
    "current_datetime.minute\n",
    "current_datetime.second\n",
    "# current_datetime.month"
   ]
  },
  {
   "cell_type": "code",
   "execution_count": null,
   "metadata": {},
   "outputs": [],
   "source": []
  }
 ],
 "metadata": {
  "kernelspec": {
   "display_name": "yeardream",
   "language": "python",
   "name": "python3"
  },
  "language_info": {
   "codemirror_mode": {
    "name": "ipython",
    "version": 3
   },
   "file_extension": ".py",
   "mimetype": "text/x-python",
   "name": "python",
   "nbconvert_exporter": "python",
   "pygments_lexer": "ipython3",
   "version": "3.9.16"
  },
  "orig_nbformat": 4
 },
 "nbformat": 4,
 "nbformat_minor": 2
}
