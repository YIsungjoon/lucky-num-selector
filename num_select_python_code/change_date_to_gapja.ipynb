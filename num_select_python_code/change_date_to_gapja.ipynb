{
 "cells": [
  {
   "cell_type": "code",
   "execution_count": 1,
   "metadata": {},
   "outputs": [],
   "source": [
    "import numpy as np\n",
    "import pandas as pd"
   ]
  },
  {
   "cell_type": "code",
   "execution_count": 9,
   "metadata": {},
   "outputs": [],
   "source": [
    "import datetime\n",
    "\n",
    "# 현재 날짜와 시간을 가져옵니다\n",
    "current_datetime = datetime.datetime.now()\n",
    "\n",
    "# 현재 년도를 가져옵니다\n",
    "current_year = current_datetime.year\n",
    "\n",
    "target = current_year%60"
   ]
  },
  {
   "cell_type": "code",
   "execution_count": 11,
   "metadata": {},
   "outputs": [
    {
     "name": "stdout",
     "output_type": "stream",
     "text": [
      "3 4\n"
     ]
    }
   ],
   "source": [
    "pre_str = target%10\n",
    "\n",
    "post_str = (target-pre_str)%12\n",
    "\n",
    "print(pre_str, post_str)"
   ]
  },
  {
   "cell_type": "code",
   "execution_count": null,
   "metadata": {},
   "outputs": [],
   "source": [
    "# 병인년(丙寅年)은 간지의 3번째 해이다. '병'은 적이므로 '빨간 호랑이의 해'이다. 서력 연도를 60으로 나눠 나머지가 6인 해가 해당된다.\n",
    "\n",
    "#  갑을병정무기경심임계 갑=4\n",
    "\n",
    "# 2023년 계묘년 (癸卯年)"
   ]
  },
  {
   "cell_type": "code",
   "execution_count": null,
   "metadata": {},
   "outputs": [],
   "source": [
    "{0:\"경\", 1:\"신\", 2:\"임\", 3:\"계\", 4:\"갑\", 5:\"을\", 6:\"병\", 7:\"정\", 8:\"무\", 9:\"기\"}\n",
    "\n",
    "# 자축인묘 진사오미 신유술해\n",
    "\n"
   ]
  }
 ],
 "metadata": {
  "kernelspec": {
   "display_name": "yeardream",
   "language": "python",
   "name": "python3"
  },
  "language_info": {
   "codemirror_mode": {
    "name": "ipython",
    "version": 3
   },
   "file_extension": ".py",
   "mimetype": "text/x-python",
   "name": "python",
   "nbconvert_exporter": "python",
   "pygments_lexer": "ipython3",
   "version": "3.9.16"
  },
  "orig_nbformat": 4
 },
 "nbformat": 4,
 "nbformat_minor": 2
}
